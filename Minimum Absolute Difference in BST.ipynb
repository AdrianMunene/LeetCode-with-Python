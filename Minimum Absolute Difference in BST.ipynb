{
 "cells": [
  {
   "cell_type": "code",
   "execution_count": null,
   "metadata": {},
   "outputs": [],
   "source": [
    "# Definition for a binary tree node.\n",
    "class TreeNode(object):\n",
    "    def __init__(self, val=0, left=None, right=None):\n",
    "        self.val = val\n",
    "        self.left = left\n",
    "        self.right = right"
   ]
  },
  {
   "cell_type": "code",
   "execution_count": null,
   "metadata": {},
   "outputs": [],
   "source": [
    "\n",
    "class Solution(object):\n",
    "    def getMinimumDifference(self, root):\n",
    "        \"\"\"\n",
    "        :type root: TreeNode\n",
    "        :rtype: int\n",
    "        \"\"\"\n",
    "        output = 0\n",
    "\n",
    "        if root:\n",
    "            output = abs(root.left.val - root.right.val)\n"
   ]
  },
  {
   "cell_type": "code",
   "execution_count": null,
   "metadata": {},
   "outputs": [],
   "source": [
    "root = TreeNode()\n",
    "a1 = TreeNode()\n",
    "a2 = TreeNode()\n",
    "a3 = TreeNode()\n",
    "a4 = TreeNode()\n",
    "root.val = 0\n",
    "a1.val = 5\n",
    "a2.val = 2\n",
    "a3.val = 7\n",
    "a4.val = 9\n",
    "root.left = a1\n",
    "root.right = a2\n",
    "a1.left = a3\n",
    "a2.right = a4"
   ]
  }
 ],
 "metadata": {
  "language_info": {
   "name": "python"
  },
  "orig_nbformat": 4
 },
 "nbformat": 4,
 "nbformat_minor": 2
}
